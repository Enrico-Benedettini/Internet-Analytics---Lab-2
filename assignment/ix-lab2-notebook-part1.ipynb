{
 "cells": [
  {
   "cell_type": "markdown",
   "metadata": {},
   "source": [
    "# Networks: structure, evolution & processes\n",
    "**Internet Analytics - Lab 2**\n",
    "\n",
    "---\n",
    "\n",
    "**Group:** *E*\n",
    "\n",
    "**Names:**\n",
    "\n",
    "* *Enrico Benedettini*\n",
    "* *Mak Fazlic*\n",
    "* *Ali Essonni*\n",
    "* *Youssef Amine*\n",
    "\n",
    "---\n",
    "\n",
    "#### Instructions\n",
    "\n",
    "*This is a template for part 1 of the lab. Clearly write your answers, comments and interpretations in Markodown cells. Don't forget that you can add $\\LaTeX$ equations in these cells. Feel free to add or remove any cell.*\n",
    "\n",
    "*Please properly comment your code. Code readability will be considered for grading. To avoid long cells of codes in the notebook, you can also embed long python functions and classes in a separate module. Don’t forget to hand in your module if that is the case. In multiple exercises, you are required to come up with your own method to solve various problems. Be creative and clearly motivate and explain your methods. Creativity and clarity will be considered for grading.*"
   ]
  },
  {
   "cell_type": "markdown",
   "metadata": {},
   "source": [
    "---\n",
    "\n",
    "## 2.1 Exploration of real networks\n",
    "\n",
    "#### Exercise 2.1"
   ]
  },
  {
   "cell_type": "markdown",
   "metadata": {},
   "source": [
    "1. Graph loading"
   ]
  },
  {
   "cell_type": "code",
   "execution_count": 32,
   "metadata": {
    "collapsed": true
   },
   "outputs": [],
   "source": [
    "import numpy as np\n",
    "import random\n",
    "import seaborn as sns\n",
    "import networkx as nx\n",
    "import matplotlib.pyplot as plt\n",
    "import pandas as pd\n",
    "\n",
    "# First, we open the file, read its content in an array of lines and then close the file\n",
    "\n",
    "G = nx.Graph()\n",
    "with open(\"../data/network1.csv\",\"r\") as f:\n",
    "    G = nx.read_edgelist(f,delimiter=',')"
   ]
  },
  {
   "cell_type": "markdown",
   "metadata": {},
   "source": [
    "2. Number of nodes and edges"
   ]
  },
  {
   "cell_type": "code",
   "execution_count": 33,
   "metadata": {},
   "outputs": [
    {
     "name": "stdout",
     "output_type": "stream",
     "text": [
      "The graph has 13033 nodes and 18584 edges\n"
     ]
    }
   ],
   "source": [
    "print(f\"The graph has {G.number_of_nodes()} nodes and {G.number_of_edges()} edges\")\n",
    "f.close()"
   ]
  },
  {
   "cell_type": "markdown",
   "metadata": {},
   "source": [
    "#### Exercise 2.2:  Node degree distribution"
   ]
  },
  {
   "cell_type": "markdown",
   "metadata": {},
   "source": [
    "1. Histogram plot"
   ]
  },
  {
   "cell_type": "code",
   "execution_count": 34,
   "metadata": {
    "collapsed": true
   },
   "outputs": [
    {
     "data": {
      "image/png": "[encoded data removed]",
      "text/plain": [
       "<Figure size 640x480 with 1 Axes>"
      ]
     },
     "metadata": {},
     "output_type": "display_data"
    }
   ],
   "source": [
    "# To compute the degree distribution we simply get the histogram and plot the bar with as x values \n",
    "# all the different possible degrees of a node and as y the number of nodes having that degree\n",
    "\n",
    "degrees = [G.degree(n) for n in G.nodes()]\n",
    "plt.hist(degrees, range=(0,20), histtype='bar', align='left', density=False)\n",
    "# To have a significant plot of the degree distribution, we consider only the distribution between the first 20 degree values\n",
    "# as otherwise the distribution is unbalanced as there's lots of random high values appearing once, that don't make it possible\n",
    "# for us to visualize the more intuitive result of the plot of the distribution as the one shown below.\n",
    "plt.xlabel('Degree')\n",
    "plt.ylabel('Frequency')\n",
    "plt.title('Degree Distribution')\n",
    "plt.show()\n"
   ]
  },
  {
   "cell_type": "markdown",
   "metadata": {},
   "source": [
    "2. Degree Distribution's statistics"
   ]
  },
  {
   "cell_type": "code",
   "execution_count": 35,
   "metadata": {},
   "outputs": [
    {
     "name": "stdout",
     "output_type": "stream",
     "text": [
      "\n",
      "Again, to gain some insights on the distribution, we look at its main values:\n",
      "min degree = 1\n",
      "max degree = 1482\n",
      "mean = 2.8518376429064682\n",
      "median = 1.0\n",
      "sigma = 20.859853773744813\n",
      "variance = 435.1334994620158\n",
      "p = 0.00021881666868000217\n",
      "\n"
     ]
    }
   ],
   "source": [
    "mean = np.mean(degrees)\n",
    "sigma = np.std(degrees)\n",
    "variance = np.var(degrees)\n",
    "p = mean / G.number_of_nodes()\n",
    "\n",
    "# Print them\n",
    "print(f\"\"\"\n",
    "Again, to gain some insights on the distribution, we look at its main values:\n",
    "min degree = {np.min(degrees)}\n",
    "max degree = {np.max(degrees)}\n",
    "mean = {mean}\n",
    "median = {np.median(degrees)}\n",
    "sigma = {sigma}\n",
    "variance = {variance}\n",
    "p = {p}\n",
    "\"\"\")"
   ]
  },
  {
   "cell_type": "markdown",
   "metadata": {},
   "source": [
    "3. Power Law distribution"
   ]
  },
  {
   "cell_type": "markdown",
   "metadata": {},
   "source": [
    " The distribution is close to a , like the pareto distribution. It has two parameters, the scale $x_m$, and the shape (otherwise known as pareto index) $\\alpha$.\n",
    "\n",
    "The statisical approach to finding the parameters would be using maximum likelihood parameter estimation. The maximum likelihood estimation formulas are given below:\n",
    "\n",
    "$$\\text{(the scale):}\\quad\\hat{x}_m = \\min_i{x_i}$$\n",
    "\n",
    "$$\\text{(the shape / pareto index):}\\quad\\hat{\\alpha} = \\frac{n}{\\sum_i{\\ln(x_i/\\hat{x}_m)}}$$\n",
    "\n",
    "Since the minimum degree observed is 1, we can try to assume that $\\hat{x}_m = 1$, but we will soon notice that this estimate is not accurate. We will try other values of $\\hat{x}_m$ as well. $\\hat{\\alpha}$ is also calculated below."
   ]
  },
  {
   "cell_type": "markdown",
   "metadata": {},
   "source": [
    "#### Exercise 2.3: Giant component"
   ]
  },
  {
   "cell_type": "code",
   "execution_count": 36,
   "metadata": {
    "collapsed": true
   },
   "outputs": [
    {
     "name": "stdout",
     "output_type": "stream",
     "text": [
      "The graph has 192 connected components\n",
      "The giant component has 12576 nodes and 18317 edges\n"
     ]
    }
   ],
   "source": [
    "num_of_components = nx.number_connected_components(G)\n",
    "print(f\"The graph has {num_of_components} connected components\")\n",
    "\n",
    "connected_components = nx.connected_components(G)\n",
    "biggest = G.subgraph(max(connected_components, key=len))\n",
    "print(f\"The giant component has {biggest.number_of_nodes()} nodes and {biggest.number_of_edges()} edges\")\n"
   ]
  },
  {
   "cell_type": "markdown",
   "metadata": {},
   "source": [
    "#### Exercise 2.4: Short paths & Small-worlds"
   ]
  },
  {
   "cell_type": "code",
   "execution_count": 37,
   "metadata": {
    "collapsed": true
   },
   "outputs": [
    {
     "name": "stdout",
     "output_type": "stream",
     "text": [
      "\n",
      "As mentioned at https://networkx.org/documentation/stable/reference/algorithms/smallworld.html :\n",
      "'A small world network is characterized by a small average shortest path length, and a large clustering coefficient'\n",
      "and again\n",
      "'Small-worldness is commonly measured with the coefficient sigma or omega',\n",
      "We know that a network is a small-world network if sigma > 1.\n",
      "Unfortunately, since the graph is very big, we first need to compute a random sample of it so that we're able to compute the average shortest path length over it.\n",
      "\n",
      "\n",
      "The average clustering coefficient C is 0.0031976276038776035\n",
      "The average clustering coefficient of the random sample Cr is 0.0031976276038776035\n",
      "The average shortest path length L is 2.5321414986686954\n",
      "The average shortest path length of the random sample Lr is 2.5321414986686954\n",
      "and sigma = 0.15596388986653448 hence < 1, \n",
      "thus we can infer that network1 is not a small-world network.\n",
      "In particular, since sigma might not be very significant, we can simply deduct that this networks is not a small-world network because of the dimension of C and L.\n",
      "Indeed, without evaluating sigma, we might first check the shortest path length distribution.\n",
      "This gives us a very connected graph with every node being reachable in less than 7 steps.\n",
      "But, when it later comes to compute its clustering coefficient, we immediately see that this value is very very low which is also why sigma is not bigger than 1.as_integer_ratio\n",
      "\n"
     ]
    },
    {
     "data": {
      "image/png": "[encoded data removed]",
      "text/plain": [
       "<Figure size 640x480 with 1 Axes>"
      ]
     },
     "metadata": {},
     "output_type": "display_data"
    }
   ],
   "source": [
    "print(f\"\"\"\n",
    "As mentioned at https://networkx.org/documentation/stable/reference/algorithms/smallworld.html :\n",
    "'A small world network is characterized by a small average shortest path length, and a large clustering coefficient'\n",
    "and again\n",
    "'Small-worldness is commonly measured with the coefficient sigma or omega',\n",
    "We know that a network is a small-world network if sigma > 1.\n",
    "Unfortunately, since the graph is very big, we first need to compute a random sample of it so that we're able to compute the average shortest path length over it.\n",
    "\"\"\")\n",
    "def random_sample(G, sample_size=1000):\n",
    "    sample_size = 2000 # We pick the sample size to be 1000, a small but big enough value to actually have a reasonable sample of the graph\n",
    "    # First, we take a sample of the graph\n",
    "    nodes = list(G.nodes())\n",
    "    sample_nodes = random.sample(nodes, sample_size)\n",
    "    G_sample = G.subgraph(sample_nodes)\n",
    "    # Then we flatten it into a list of the shortest path lengths\n",
    "    n = list(nx.shortest_path_length(G_sample))\n",
    "    lengths = [d.values() for n, d in n]\n",
    "    return ([item for sublist in lengths for item in sublist], G_sample)\n",
    "\n",
    "lengths_flat, G_sample = random_sample(G,10000)\n",
    "G_sample_random = nx.lattice_reference(G_sample)\n",
    "n = list(nx.shortest_path_length(G_sample))\n",
    "lengths = [d.values() for n, d in n]\n",
    "lengths_flat_random = [item for sublist in lengths for item in sublist]\n",
    "# lengths_flat_random, G_sample_random = random_sample(G_sample,500)\n",
    "plt.hist(lengths_flat, align='left')\n",
    "C = nx.average_clustering(G_sample)\n",
    "Cr = nx.average_clustering(G_sample_random)\n",
    "L = np.average(lengths_flat)\n",
    "Lr = np.average(lengths_flat_random)\n",
    "sigma = C/Cr/L/Lr\n",
    "print(f\"\"\"\n",
    "The average clustering coefficient C is {C}\n",
    "The average clustering coefficient of the random sample Cr is {Cr}\n",
    "The average shortest path length L is {L}\n",
    "The average shortest path length of the random sample Lr is {Lr}\n",
    "and sigma = {sigma} hence < 1, \n",
    "thus we can infer that network1 is not a small-world network.\n",
    "In particular, since sigma might not be very significant, we can simply deduct that this networks is not a small-world network because of the dimension of C and L.\n",
    "Indeed, without evaluating sigma, we might first check the shortest path length distribution.\n",
    "This gives us a very connected graph with every node being reachable in less than 7 steps.\n",
    "But, when it later comes to compute its clustering coefficient, we immediately see that this value is very very low which is also why sigma is not bigger than 1.as_integer_ratio\n",
    "\"\"\")"
   ]
  },
  {
   "cell_type": "code",
   "execution_count": 38,
   "metadata": {},
   "outputs": [
    {
     "name": "stdout",
     "output_type": "stream",
     "text": [
      "\n",
      "Indeed, as we see from the average degree connectivity graph as well,\n",
      "we understand that the graph has few very connected components, and various less connected components\n",
      "as intuitive also from the degree distribution plotted above, which we already had to cut because\n",
      "of this very few high degree nodes.\n",
      "\n"
     ]
    },
    {
     "data": {
      "image/png": "[encoded data removed]",
      "text/plain": [
       "<Figure size 640x480 with 1 Axes>"
      ]
     },
     "metadata": {},
     "output_type": "display_data"
    }
   ],
   "source": [
    "avg_degree_connectivity = nx.average_degree_connectivity(G_sample)\n",
    "x = avg_degree_connectivity.keys()\n",
    "y = avg_degree_connectivity.values()\n",
    "plt.bar(x,y)\n",
    "print(\"\"\"\n",
    "Indeed, as we see from the average degree connectivity graph as well,\n",
    "we understand that the graph has few very connected components, and various less connected components\n",
    "as intuitive also from the degree distribution plotted above, which we already had to cut because\n",
    "of this very few high degree nodes.\n",
    "\"\"\")"
   ]
  },
  {
   "cell_type": "markdown",
   "metadata": {},
   "source": [
    "#### Exercise 2.5: Network comparison"
   ]
  },
  {
   "cell_type": "code",
   "execution_count": 39,
   "metadata": {
    "collapsed": true
   },
   "outputs": [
    {
     "name": "stdout",
     "output_type": "stream",
     "text": [
      "The graph has 26542 nodes and 43516 edges\n"
     ]
    },
    {
     "data": {
      "image/png": "[encoded data removed]",
      "text/plain": [
       "<Figure size 640x480 with 1 Axes>"
      ]
     },
     "metadata": {},
     "output_type": "display_data"
    }
   ],
   "source": [
    "\n",
    "with open(\"../data/network2.csv\",\"r\") as f:\n",
    "    G = nx.read_edgelist(f,delimiter=',')\n",
    "    print(f\"The graph has {G.number_of_nodes()} nodes and {G.number_of_edges()} edges\")\n",
    "    f.close()\n",
    "\n",
    "degrees = [G.degree(n) for n in G.nodes()]\n",
    "plt.hist(degrees, range=(0,20), histtype='bar', align='left', density=False)\n",
    "plt.xlabel('Degree')\n",
    "plt.ylabel('Frequency')\n",
    "plt.title('Degree Distribution')\n",
    "plt.show()\n",
    "\n"
   ]
  },
  {
   "cell_type": "markdown",
   "metadata": {},
   "source": [
    "Degree Distribution's statistics"
   ]
  },
  {
   "cell_type": "code",
   "execution_count": 40,
   "metadata": {},
   "outputs": [
    {
     "name": "stdout",
     "output_type": "stream",
     "text": [
      "\n",
      "Again, to gain some insights on the distribution, we look at its main values:\n",
      "min degree = 1\n",
      "max degree = 8\n",
      "mean = 3.2790294627383014\n",
      "median = 3.0\n",
      "sigma = 0.90164134609217\n",
      "variance = 0.8129571169829002\n",
      "p = 0.00012354115977463272\n",
      "\n"
     ]
    }
   ],
   "source": [
    "mean = np.mean(degrees)\n",
    "sigma = np.std(degrees)\n",
    "variance = np.var(degrees)\n",
    "p = mean / G.number_of_nodes()\n",
    "\n",
    "# Print them\n",
    "print(f\"\"\"\n",
    "Again, to gain some insights on the distribution, we look at its main values:\n",
    "min degree = {np.min(degrees)}\n",
    "max degree = {np.max(degrees)}\n",
    "mean = {mean}\n",
    "median = {np.median(degrees)}\n",
    "sigma = {sigma}\n",
    "variance = {variance}\n",
    "p = {p}\n",
    "\"\"\")"
   ]
  },
  {
   "cell_type": "markdown",
   "metadata": {},
   "source": [
    "Giant Component"
   ]
  },
  {
   "cell_type": "code",
   "execution_count": 41,
   "metadata": {},
   "outputs": [
    {
     "name": "stdout",
     "output_type": "stream",
     "text": [
      "The graph has 5 connected components\n",
      "The giant component has 26481 nodes and 43437 edges\n"
     ]
    }
   ],
   "source": [
    "num_of_components = nx.number_connected_components(G)\n",
    "print(f\"The graph has {num_of_components} connected components\")\n",
    "connected_components = nx.connected_components(G)\n",
    "biggest = G.subgraph(max(connected_components, key=len))\n",
    "print(f\"The giant component has {biggest.number_of_nodes()} nodes and {biggest.number_of_edges()} edges\")\n"
   ]
  },
  {
   "cell_type": "markdown",
   "metadata": {},
   "source": [
    "Short paths & Small-worlds"
   ]
  },
  {
   "cell_type": "code",
   "execution_count": 42,
   "metadata": {},
   "outputs": [
    {
     "name": "stdout",
     "output_type": "stream",
     "text": [
      "\n",
      "The average clustering coefficient C is 0.0015\n",
      "The average clustering coefficient of the random sample Cr is 0.0015\n",
      "The average shortest path length L is 0.2805155420773313\n",
      "The average shortest path length of the random sample Lr is 0.2805155420773313\n"
     ]
    },
    {
     "data": {
      "text/plain": [
       "' \\n 0 < 1 thus, network2 is not a small-world network.\\nWe can deduce this easily simply by looking at the shortest path length distribution.\\n'"
      ]
     },
     "execution_count": 42,
     "metadata": {},
     "output_type": "execute_result"
    },
    {
     "data": {
      "image/png": "[encoded data removed]",
      "text/plain": [
       "<Figure size 640x480 with 1 Axes>"
      ]
     },
     "metadata": {},
     "output_type": "display_data"
    }
   ],
   "source": [
    "lengths_flat, G_sample = random_sample(G,40000)\n",
    "\n",
    "G_sample_random = nx.lattice_reference(G_sample)\n",
    "n = list(nx.shortest_path_length(G_sample))\n",
    "lengths = [d.values() for n, d in n]\n",
    "lengths_flat_random = [item for sublist in lengths for item in sublist]\n",
    "# lengths_flat_random, G_sample_random = random_sample(G_sample,500)\n",
    "plt.hist(lengths_flat, align='left')\n",
    "C = nx.average_clustering(G_sample)\n",
    "Cr = nx.average_clustering(G_sample_random)\n",
    "L = np.average(lengths_flat)\n",
    "Lr = np.average(lengths_flat_random)\n",
    "print(f\"\"\"\n",
    "The average clustering coefficient C is {C}\n",
    "The average clustering coefficient of the random sample Cr is {Cr}\n",
    "The average shortest path length L is {L}\n",
    "The average shortest path length of the random sample Lr is {Lr}\"\"\")\n",
    "(f\"\"\" \n",
    " {0} < 1 thus, network2 is not a small-world network.\n",
    "We can deduce this easily simply by looking at the shortest path length distribution.\n",
    "\"\"\")"
   ]
  },
  {
   "cell_type": "code",
   "execution_count": 43,
   "metadata": {},
   "outputs": [
    {
     "data": {
      "text/plain": [
       "<BarContainer object of 4 artists>"
      ]
     },
     "execution_count": 43,
     "metadata": {},
     "output_type": "execute_result"
    },
    {
     "data": {
      "image/png": "[encoded data removed]",
      "text/plain": [
       "<Figure size 640x480 with 1 Axes>"
      ]
     },
     "metadata": {},
     "output_type": "display_data"
    }
   ],
   "source": [
    "avg_degree_connectivity = nx.average_degree_connectivity(G_sample)\n",
    "x = avg_degree_connectivity.keys()\n",
    "y = avg_degree_connectivity.values()\n",
    "plt.bar(x,y)\n",
    "# print(\"\"\"\n",
    "# Indeed, as we see from the average degree connectivity graph as well,\n",
    "# we understand that the graph has few very connected components, and various less connected components\n",
    "# as intuitive also from the degree distribution plotted above, which we already had to cut because\n",
    "# of this very few high degree nodes.\n",
    "# \"\"\")"
   ]
  },
  {
   "cell_type": "markdown",
   "metadata": {},
   "source": [
    "From the connectivity distribution and the sigma value we can easily infer that the network is a small-world network as it has a very low  and"
   ]
  },
  {
   "cell_type": "markdown",
   "metadata": {},
   "source": [
    "#### Exercise 2.6: Network identification"
   ]
  },
  {
   "cell_type": "code",
   "execution_count": null,
   "metadata": {
    "collapsed": true
   },
   "outputs": [],
   "source": []
  }
 ],
 "metadata": {
  "kernelspec": {
   "display_name": "Python 3.9.13 ('base')",
   "language": "python",
   "name": "python3"
  },
  "language_info": {
   "codemirror_mode": {
    "name": "ipython",
    "version": 3
   },
   "file_extension": ".py",
   "mimetype": "text/x-python",
   "name": "python",
   "nbconvert_exporter": "python",
   "pygments_lexer": "ipython3",
   "version": "3.9.13"
  },
  "vscode": {
   "interpreter": {
    "hash": "95b1f59cb284e595035daab88d31de18eb86d4bffd5c996db224279815efe55e"
   }
  }
 },
 "nbformat": 4,
 "nbformat_minor": 2
}
