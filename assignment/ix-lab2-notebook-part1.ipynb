{
 "cells": [
  {
   "cell_type": "markdown",
   "metadata": {},
   "source": [
    "# Networks: structure, evolution & processes\n",
    "**Internet Analytics - Lab 2**\n",
    "\n",
    "---\n",
    "\n",
    "**Group:** *E*\n",
    "\n",
    "**Names:**\n",
    "\n",
    "* *Enrico Benedettini*\n",
    "* *Mak Fazlic*\n",
    "* *Ali Essonni*\n",
    "* *Youssef Amine*\n",
    "\n",
    "---\n",
    "\n",
    "#### Instructions\n",
    "\n",
    "*This is a template for part 1 of the lab. Clearly write your answers, comments and interpretations in Markodown cells. Don't forget that you can add $\\LaTeX$ equations in these cells. Feel free to add or remove any cell.*\n",
    "\n",
    "*Please properly comment your code. Code readability will be considered for grading. To avoid long cells of codes in the notebook, you can also embed long python functions and classes in a separate module. Don’t forget to hand in your module if that is the case. In multiple exercises, you are required to come up with your own method to solve various problems. Be creative and clearly motivate and explain your methods. Creativity and clarity will be considered for grading.*"
   ]
  },
  {
   "cell_type": "markdown",
   "metadata": {},
   "source": [
    "---\n",
    "\n",
    "## 2.1 Exploration of real networks\n",
    "\n",
    "#### Exercise 2.1"
   ]
  },
  {
   "cell_type": "markdown",
   "metadata": {},
   "source": [
    "##### 1. Graph loading"
   ]
  },
  {
   "cell_type": "code",
   "execution_count": 1,
   "metadata": {
    "collapsed": true
   },
   "outputs": [],
   "source": [
    "import numpy as np\n",
    "import random\n",
    "import seaborn as sns\n",
    "import networkx as nx\n",
    "import matplotlib.pyplot as plt\n",
    "import pandas as pd\n",
    "\n",
    "# First, we open the file, read its content in an array of lines and then close the file\n",
    "\n",
    "G = nx.Graph()\n",
    "with open(\"../data/network1.csv\",\"r\") as f:\n",
    "    G = nx.read_edgelist(f,delimiter=',')"
   ]
  },
  {
   "cell_type": "markdown",
   "metadata": {},
   "source": [
    "##### 2. Number of nodes and edges"
   ]
  },
  {
   "cell_type": "code",
   "execution_count": 2,
   "metadata": {},
   "outputs": [
    {
     "name": "stdout",
     "output_type": "stream",
     "text": [
      "The graph has 13033 nodes and 18584 edges\n"
     ]
    }
   ],
   "source": [
    "print(f\"The graph has {G.number_of_nodes()} nodes and {G.number_of_edges()} edges\")\n",
    "f.close()"
   ]
  },
  {
   "cell_type": "markdown",
   "metadata": {},
   "source": [
    "#### Exercise 2.2:  Node degree distribution"
   ]
  },
  {
   "cell_type": "markdown",
   "metadata": {},
   "source": [
    "##### 1. Histogram plot"
   ]
  },
  {
   "cell_type": "code",
   "execution_count": 3,
   "metadata": {
    "collapsed": true
   },
   "outputs": [
    {
     "data": {
      "image/png": "[encoded data removed]",
      "text/plain": [
       "<Figure size 640x480 with 1 Axes>"
      ]
     },
     "metadata": {},
     "output_type": "display_data"
    }
   ],
   "source": [
    "# To compute the degree distribution we simply get the histogram and plot the bar with as x values \n",
    "# all the different possible degrees of a node and as y the number of nodes having that degree\n",
    "degrees = [G.degree(n) for n in G.nodes()]\n",
    "plt.hist(degrees, range=(0,20), histtype='bar', align='left', density=False)\n",
    "plt.xlabel('Degree')\n",
    "plt.ylabel('Frequency')\n",
    "plt.title('Degree Distribution')\n",
    "plt.show()\n"
   ]
  },
  {
   "cell_type": "markdown",
   "metadata": {},
   "source": [
    "To have a more significant plot of the degree distribution, we consider only the distribution between the first 20 degree values\n",
    "as otherwise the distribution is unbalanced as there's lots of random high values appearing once, that make it impossible\n",
    "for us to visualize the more intuitive result of the plot of the distribution as the one shown below."
   ]
  },
  {
   "cell_type": "markdown",
   "metadata": {},
   "source": [
    "##### 2. Degree Distribution's statistics"
   ]
  },
  {
   "cell_type": "code",
   "execution_count": 4,
   "metadata": {},
   "outputs": [
    {
     "name": "stdout",
     "output_type": "stream",
     "text": [
      "\n",
      "Again, to gain some insights on the distribution, we look at its main values:\n",
      "min degree = 1\n",
      "max degree = 1482\n",
      "mean = 2.8518376429064682\n",
      "median = 1.0\n",
      "sigma = 20.859853773744813\n",
      "variance = 435.1334994620158\n",
      "p = 0.00021881666868000217\n",
      "\n"
     ]
    }
   ],
   "source": [
    "mean = np.mean(degrees)\n",
    "sigma = np.std(degrees)\n",
    "variance = np.var(degrees)\n",
    "p = mean / G.number_of_nodes()\n",
    "\n",
    "# Print them\n",
    "print(f\"\"\"\n",
    "Again, to gain some insights on the distribution, we look at its main values:\n",
    "min degree = {np.min(degrees)}\n",
    "max degree = {np.max(degrees)}\n",
    "mean = {mean}\n",
    "median = {np.median(degrees)}\n",
    "sigma = {sigma}\n",
    "variance = {variance}\n",
    "p = {p}\n",
    "\"\"\")"
   ]
  },
  {
   "cell_type": "markdown",
   "metadata": {},
   "source": [
    "3. Power Law distribution"
   ]
  },
  {
   "cell_type": "markdown",
   "metadata": {},
   "source": [
    " The distribution is close to a , like the pareto distribution. It has two parameters, the scale $x_m$, and the shape (otherwise known as pareto index) $\\alpha$.\n",
    "\n",
    "The statisical approach to finding the parameters would be using maximum likelihood parameter estimation. The maximum likelihood estimation formulas are given below:\n",
    "\n",
    "$$\\text{(the scale):}\\quad\\hat{x}_m = \\min_i{x_i}$$\n",
    "\n",
    "$$\\text{(the shape / pareto index):}\\quad\\hat{\\alpha} = \\frac{n}{\\sum_i{\\ln(x_i/\\hat{x}_m)}}$$\n",
    "\n",
    "Since the minimum degree observed is 1, we can try to assume that $\\hat{x}_m = 1$, but we will soon notice that this estimate is not accurate. We will try other values of $\\hat{x}_m$ as well. $\\hat{\\alpha}$ is also calculated below."
   ]
  },
  {
   "cell_type": "markdown",
   "metadata": {},
   "source": [
    "#### Exercise 2.3: Giant component"
   ]
  },
  {
   "cell_type": "markdown",
   "metadata": {},
   "source": [
    "##### 1. Number of connected components"
   ]
  },
  {
   "cell_type": "code",
   "execution_count": 5,
   "metadata": {
    "collapsed": true
   },
   "outputs": [
    {
     "name": "stdout",
     "output_type": "stream",
     "text": [
      "The graph has 192 connected components\n"
     ]
    }
   ],
   "source": [
    "num_of_components = nx.number_connected_components(G)\n",
    "print(f\"The graph has {num_of_components} connected components\")"
   ]
  },
  {
   "cell_type": "markdown",
   "metadata": {},
   "source": [
    "##### 2. Giant Component"
   ]
  },
  {
   "cell_type": "code",
   "execution_count": 6,
   "metadata": {},
   "outputs": [
    {
     "name": "stdout",
     "output_type": "stream",
     "text": [
      "The giant component has 12576 nodes and 18317 edges\n"
     ]
    }
   ],
   "source": [
    "connected_components = nx.connected_components(G)\n",
    "biggest = G.subgraph(max(connected_components, key=len))\n",
    "print(f\"The giant component has {biggest.number_of_nodes()} nodes and {biggest.number_of_edges()} edges\")"
   ]
  },
  {
   "cell_type": "markdown",
   "metadata": {},
   "source": [
    "#### Exercise 2.4: Short paths & Small-worlds"
   ]
  },
  {
   "cell_type": "code",
   "execution_count": 7,
   "metadata": {
    "collapsed": true
   },
   "outputs": [
    {
     "name": "stdout",
     "output_type": "stream",
     "text": [
      "\n",
      "As mentioned at https://networkx.org/documentation/stable/reference/algorithms/smallworld.html :\n",
      "'A small world network is characterized by a small average shortest path length, and a large average clustering coefficient'\n",
      "and again\n",
      "'Small-worldness is commonly measured with the coefficient sigma or omega',\n",
      "We know that a network is a small-world network if sigma > 1.\n",
      "Indeed, we know that sigma is 20.859853773744813 > 1, thus network1 could be defined as a small-world network,\n",
      "but we should dig deeper into its property to understand if it actually is.\n",
      "Indeed, we should inspect the average shortest path length and clustering coefficient.\n",
      "\n"
     ]
    },
    {
     "data": {
      "text/plain": [
       "(array([7.75000e+03, 2.64244e+05, 6.18772e+05, 7.65308e+05, 1.17742e+05,\n",
       "        3.68800e+04, 2.02680e+04, 3.89600e+03, 1.27200e+03, 3.24000e+02]),\n",
       " array([ 0. ,  1.3,  2.6,  3.9,  5.2,  6.5,  7.8,  9.1, 10.4, 11.7, 13. ]),\n",
       " <BarContainer object of 10 artists>)"
      ]
     },
     "execution_count": 7,
     "metadata": {},
     "output_type": "execute_result"
    },
    {
     "data": {
      "image/png": "[encoded data removed]",
      "text/plain": [
       "<Figure size 640x480 with 1 Axes>"
      ]
     },
     "metadata": {},
     "output_type": "display_data"
    }
   ],
   "source": [
    "print(f\"\"\"\n",
    "As mentioned at https://networkx.org/documentation/stable/reference/algorithms/smallworld.html :\n",
    "'A small world network is characterized by a small average shortest path length, and a large average clustering coefficient'\n",
    "and again\n",
    "'Small-worldness is commonly measured with the coefficient sigma or omega',\n",
    "We know that a network is a small-world network if sigma > 1.\n",
    "Indeed, we know that sigma is {sigma} > 1, thus network1 could be defined as a small-world network,\n",
    "but we should dig deeper into its property to understand if it actually is.\n",
    "Indeed, we should inspect the average shortest path length and clustering coefficient.\n",
    "\"\"\")\n",
    "def random_sample(G, sample_size=1000):\n",
    "    # First, we take a sample of the graph\n",
    "    nodes = list(G.nodes())\n",
    "    sample_nodes = random.sample(nodes, sample_size)\n",
    "    G_sample = G.subgraph(sample_nodes)\n",
    "    # Then we flatten it into a list of the shortest path lengths\n",
    "    n = list(nx.shortest_path_length(G_sample))\n",
    "    lengths = [d.values() for n, d in n]\n",
    "    return ([item for sublist in lengths for item in sublist], G_sample)\n",
    "\n",
    "# We pick the sample size to be 10000, a small but big enough value to actually have a reasonable sample of the graph\n",
    "lengths_flat, G_sample = random_sample(G,4000)\n",
    "plt.hist(lengths_flat, align='left')"
   ]
  },
  {
   "cell_type": "code",
   "execution_count": 8,
   "metadata": {},
   "outputs": [
    {
     "name": "stdout",
     "output_type": "stream",
     "text": [
      "\n",
      "The average clustering coefficient C is 0.034151041924394686\n",
      "The average shortest path length L is 3.747155390600156\n",
      "In particular, since sigma might not be very significant, we can simply deduct that this networks is a small-world network because of the dimension of C and L.\n",
      "Indeed, without evaluating sigma, we might first check the shortest path length distribution.\n",
      "This gives us a very connected graph with every node being reachable in less than 8 steps.\n",
      "And since the definition of a small-world network requires reachability in 6 steps this doesn't really satisfy the definition, but we might say that there's some degree of\n",
      "small-worldness as with 6 steps we reach nearly the whole network.\n",
      "\n"
     ]
    }
   ],
   "source": [
    "C = nx.average_clustering(G_sample)\n",
    "L = np.average(lengths_flat)\n",
    "print(f\"\"\"\n",
    "The average clustering coefficient C is {C}\n",
    "The average shortest path length L is {L}\n",
    "In particular, since sigma might not be very significant, we can simply deduct that this networks is a small-world network because of the dimension of C and L.\n",
    "Indeed, without evaluating sigma, we might first check the shortest path length distribution.\n",
    "This gives us a very connected graph with every node being reachable in less than 8 steps.\n",
    "And since the definition of a small-world network requires reachability in 6 steps this doesn't really satisfy the definition, but we might say that there's some degree of\n",
    "small-worldness as with 6 steps we reach nearly the whole network.\n",
    "\"\"\")"
   ]
  },
  {
   "cell_type": "code",
   "execution_count": 9,
   "metadata": {},
   "outputs": [
    {
     "data": {
      "text/plain": [
       "<BarContainer object of 27 artists>"
      ]
     },
     "execution_count": 9,
     "metadata": {},
     "output_type": "execute_result"
    },
    {
     "data": {
      "image/png": "[encoded data removed]",
      "text/plain": [
       "<Figure size 640x480 with 1 Axes>"
      ]
     },
     "metadata": {},
     "output_type": "display_data"
    }
   ],
   "source": [
    "avg_degree_connectivity = nx.average_degree_connectivity(G_sample)\n",
    "x = avg_degree_connectivity.keys()\n",
    "y = avg_degree_connectivity.values()\n",
    "plt.bar(x,y)"
   ]
  },
  {
   "cell_type": "markdown",
   "metadata": {},
   "source": [
    "Indeed, as we see from the average degree connectivity graph as well,\n",
    "we understand that the graph has few very connected components, and various less connected components\n",
    "as intuitive also from the degree distribution plotted above, which we already had to cut because\n",
    "of this very few high degree nodes."
   ]
  },
  {
   "cell_type": "markdown",
   "metadata": {},
   "source": [
    "#### Exercise 2.5: Network comparison"
   ]
  },
  {
   "cell_type": "markdown",
   "metadata": {},
   "source": [
    "##### 1. Exploring network2"
   ]
  },
  {
   "cell_type": "markdown",
   "metadata": {},
   "source": [
    "Graph Loading"
   ]
  },
  {
   "cell_type": "code",
   "execution_count": 10,
   "metadata": {
    "collapsed": true
   },
   "outputs": [],
   "source": [
    "with open(\"../data/network2.csv\",\"r\") as f:\n",
    "    G2 = nx.read_edgelist(f,delimiter=',')"
   ]
  },
  {
   "cell_type": "markdown",
   "metadata": {},
   "source": [
    "Number of nodes and edges"
   ]
  },
  {
   "cell_type": "code",
   "execution_count": 11,
   "metadata": {},
   "outputs": [
    {
     "name": "stdout",
     "output_type": "stream",
     "text": [
      "The graph has 26542 nodes and 43516 edges\n"
     ]
    }
   ],
   "source": [
    "\n",
    "print(f\"The graph has {G2.number_of_nodes()} nodes and {G2.number_of_edges()} edges\")\n",
    "f.close()"
   ]
  },
  {
   "cell_type": "markdown",
   "metadata": {},
   "source": [
    "Degree Distribution"
   ]
  },
  {
   "cell_type": "code",
   "execution_count": 12,
   "metadata": {},
   "outputs": [
    {
     "data": {
      "image/png": "[encoded data removed]",
      "text/plain": [
       "<Figure size 640x480 with 1 Axes>"
      ]
     },
     "metadata": {},
     "output_type": "display_data"
    }
   ],
   "source": [
    "degrees = [G2.degree(n) for n in G2.nodes()]\n",
    "plt.hist(degrees, histtype='bar', align='left', density=False)\n",
    "plt.xlabel('Degree')\n",
    "plt.ylabel('Frequency')\n",
    "plt.title('Degree Distribution')\n",
    "plt.show()"
   ]
  },
  {
   "cell_type": "markdown",
   "metadata": {},
   "source": [
    "This time, to the contrary to what we did before, we don't need to clamp the range of the x-axis of our distribution as all the values add up to a recognizable distribution"
   ]
  },
  {
   "cell_type": "markdown",
   "metadata": {},
   "source": [
    "Degree Distribution's statistics"
   ]
  },
  {
   "cell_type": "code",
   "execution_count": 13,
   "metadata": {},
   "outputs": [
    {
     "name": "stdout",
     "output_type": "stream",
     "text": [
      "\n",
      "Again, to gain some insights on the distribution, we look at its main values:\n",
      "min degree = 1\n",
      "max degree = 8\n",
      "mean = 3.2790294627383014\n",
      "median = 3.0\n",
      "sigma = 0.90164134609217\n",
      "variance = 0.8129571169829002\n",
      "p = 0.00012354115977463272\n",
      "\n"
     ]
    }
   ],
   "source": [
    "mean = np.mean(degrees)\n",
    "sigma = np.std(degrees)\n",
    "variance = np.var(degrees)\n",
    "p = mean / G2.number_of_nodes()\n",
    "\n",
    "# Print them\n",
    "print(f\"\"\"\n",
    "Again, to gain some insights on the distribution, we look at its main values:\n",
    "min degree = {np.min(degrees)}\n",
    "max degree = {np.max(degrees)}\n",
    "mean = {mean}\n",
    "median = {np.median(degrees)}\n",
    "sigma = {sigma}\n",
    "variance = {variance}\n",
    "p = {p}\n",
    "\"\"\")"
   ]
  },
  {
   "cell_type": "markdown",
   "metadata": {},
   "source": [
    "Giant Component"
   ]
  },
  {
   "cell_type": "code",
   "execution_count": 14,
   "metadata": {},
   "outputs": [
    {
     "name": "stdout",
     "output_type": "stream",
     "text": [
      "The graph has 5 connected components\n",
      "The giant component has 26481 nodes and 43437 edges\n"
     ]
    }
   ],
   "source": [
    "num_of_components = nx.number_connected_components(G2)\n",
    "print(f\"The graph has {num_of_components} connected components\")\n",
    "connected_components = nx.connected_components(G2)\n",
    "biggest = G2.subgraph(max(connected_components, key=len))\n",
    "print(f\"The giant component has {biggest.number_of_nodes()} nodes and {biggest.number_of_edges()} edges\")\n"
   ]
  },
  {
   "cell_type": "markdown",
   "metadata": {},
   "source": [
    "Short paths & Small-worlds"
   ]
  },
  {
   "cell_type": "code",
   "execution_count": 15,
   "metadata": {},
   "outputs": [
    {
     "name": "stdout",
     "output_type": "stream",
     "text": [
      "\n",
      "Again,\n",
      "As mentioned at https://networkx.org/documentation/stable/reference/algorithms/smallworld.html :\n",
      "'A small world network is characterized by a small average shortest path length, and a large average clustering coefficient'\n",
      "and again\n",
      "'Small-worldness is commonly measured with the coefficient sigma or omega',\n",
      "We know that a network is a small-world network if sigma > 1.\n",
      "Indeed, we know that sigma is 0.90164134609217 < 1, thus network2 can't be defined as a small-world network,\n",
      "but we should dig deeper into its property to understand if it actually is.\n",
      "Indeed, we should inspect the average shortest path length and clustering coefficient.\n",
      "\n"
     ]
    }
   ],
   "source": [
    "print(f\"\"\"\n",
    "Again,\n",
    "As mentioned at https://networkx.org/documentation/stable/reference/algorithms/smallworld.html :\n",
    "'A small world network is characterized by a small average shortest path length, and a large average clustering coefficient'\n",
    "and again\n",
    "'Small-worldness is commonly measured with the coefficient sigma or omega',\n",
    "We know that a network is a small-world network if sigma > 1.\n",
    "Indeed, we know that sigma is {sigma} < 1, thus network2 can't be defined as a small-world network,\n",
    "but we should dig deeper into its property to understand if it actually is.\n",
    "Indeed, we should inspect the average shortest path length and clustering coefficient.\n",
    "\"\"\")\n",
    "\n",
    "# We pick the sample size to be 40000, a larger value that for this network it's still possible to evaluate due to its different composition\n",
    "# lengths_flat, G_sample = random_sample(G2,4000)\n",
    "G_sample = G2\n",
    "lengths_flat = list(nx.all_pairs_shortest_path_length(G2))\n",
    "plt.hist(lengths_flat, align='left')"
   ]
  },
  {
   "cell_type": "code",
   "execution_count": null,
   "metadata": {},
   "outputs": [],
   "source": [
    "C = nx.average_clustering(G_sample)\n",
    "L = np.average(lengths_flat)\n",
    "print(f\"\"\"\n",
    "The average clustering coefficient C is {C}\n",
    "The average shortest path length L is {L}\n",
    "In particular, since sigma might not be very significant, we can simply deduct that this networks is not a small-world network because of the dimension of C and L.\n",
    "Indeed, without evaluating sigma, we might first check the shortest path length distribution.\n",
    "But the variation is very low.\n",
    "\"\"\")"
   ]
  },
  {
   "cell_type": "code",
   "execution_count": null,
   "metadata": {},
   "outputs": [],
   "source": [
    "avg_degree_connectivity = nx.average_degree_connectivity(G_sample)\n",
    "x = avg_degree_connectivity.keys()\n",
    "y = avg_degree_connectivity.values()\n",
    "print(y)\n",
    "plt.bar(x,y)"
   ]
  },
  {
   "cell_type": "markdown",
   "metadata": {},
   "source": [
    "Indeed, as we see from the average degree connectivity graph as well,\n",
    "we understand that the graph is very well connected and presents in average a very low connectivity degree"
   ]
  },
  {
   "cell_type": "markdown",
   "metadata": {},
   "source": [
    "##### 2. Comparison of the two networks"
   ]
  },
  {
   "cell_type": "markdown",
   "metadata": {},
   "source": [
    "#### Exercise 2.6: Network identification"
   ]
  },
  {
   "cell_type": "code",
   "execution_count": null,
   "metadata": {
    "collapsed": true
   },
   "outputs": [],
   "source": []
  }
 ],
 "metadata": {
  "kernelspec": {
   "display_name": "Python 3.9.13 ('base')",
   "language": "python",
   "name": "python3"
  },
  "language_info": {
   "codemirror_mode": {
    "name": "ipython",
    "version": 3
   },
   "file_extension": ".py",
   "mimetype": "text/x-python",
   "name": "python",
   "nbconvert_exporter": "python",
   "pygments_lexer": "ipython3",
   "version": "3.9.13"
  },
  "vscode": {
   "interpreter": {
    "hash": "95b1f59cb284e595035daab88d31de18eb86d4bffd5c996db224279815efe55e"
   }
  }
 },
 "nbformat": 4,
 "nbformat_minor": 2
}
