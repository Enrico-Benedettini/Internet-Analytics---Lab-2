{
 "cells": [
  {
   "cell_type": "markdown",
   "metadata": {},
   "source": [
    "# Networks: structure, evolution & processes\n",
    "**Internet Analytics - Lab 2**\n",
    "\n",
    "---\n",
    "\n",
    "**Group:** *E*\n",
    "\n",
    "**Names:**\n",
    "\n",
    "* *Enrico Benedettini*\n",
    "* *Mak Fazlic*\n",
    "* *Ali Essonni*\n",
    "* *Youssef Amine*\n",
    "\n",
    "---\n",
    "\n",
    "#### Instructions\n",
    "\n",
    "*This is a template for part 2 of the lab. Clearly write your answers, comments and interpretations in Markodown cells. Don't forget that you can add $\\LaTeX$ equations in these cells. Feel free to add or remove any cell.*\n",
    "\n",
    "*Please properly comment your code. Code readability will be considered for grading. To avoid long cells of codes in the notebook, you can also embed long python functions and classes in a separate module. Don’t forget to hand in your module if that is the case. In multiple exercises, you are required to come up with your own method to solve various problems. Be creative and clearly motivate and explain your methods. Creativity and clarity will be considered for grading.*"
   ]
  },
  {
   "cell_type": "markdown",
   "metadata": {},
   "source": [
    "---\n",
    "\n",
    "## 2.2 Network sampling\n",
    "\n",
    "#### Exercise 2.7: Random walk on the Facebook network"
   ]
  },
  {
   "cell_type": "code",
   "execution_count": 5,
   "outputs": [],
   "source": [
    "import requests\n",
    "import random\n",
    "import numpy as np"
   ],
   "metadata": {
    "collapsed": false
   }
  },
  {
   "cell_type": "code",
   "execution_count": 6,
   "metadata": {
    "collapsed": true
   },
   "outputs": [],
   "source": [
    "def getData(node):\n",
    "    URL_TEMPLATE = 'http://iccluster050.iccluster.epfl.ch:5050/v1.0/facebook?user={user_id}'\n",
    "    url = URL_TEMPLATE.format(user_id=node)\n",
    "    response = requests.get(url)\n",
    "    return response.json()\n",
    "\n",
    "def walker(starting_node, number_nodes):\n",
    "    i = 0\n",
    "    node = starting_node\n",
    "    ages = []\n",
    "    while i <number_nodes:\n",
    "        data = getData(node)\n",
    "        ages.append(data[\"age\"])\n",
    "        neighboors = data[\"friends\"]\n",
    "        id = random.randrange(0, len(neighboors))\n",
    "        node = neighboors[id]\n",
    "        i = i + 1\n",
    "    return np.sum(ages) / number_nodes"
   ]
  },
  {
   "cell_type": "code",
   "execution_count": 7,
   "outputs": [],
   "source": [
    "user_id = \"a5771bce93e200c36f7cd9dfd0e5deaa\"\n",
    "users = 1000\n",
    "avg = walker(user_id,users)"
   ],
   "metadata": {
    "collapsed": false
   }
  },
  {
   "cell_type": "code",
   "execution_count": 8,
   "outputs": [
    {
     "name": "stdout",
     "output_type": "stream",
     "text": [
      "The average age of facebook users using the user a5771bce93e200c36f7cd9dfd0e5deaa as a starting node and using 1000 is 25.426 years\n"
     ]
    }
   ],
   "source": [
    "print(f\"The average age of facebook users using the user {user_id} as a starting node and using {users} is {avg} years\")"
   ],
   "metadata": {
    "collapsed": false
   }
  },
  {
   "cell_type": "markdown",
   "metadata": {},
   "source": [
    "#### Exercise 2.8"
   ]
  },
  {
   "cell_type": "markdown",
   "source": [
    "1. We got 25.4 years as average years which  is not close to the true average which is 45 by 19.6 years\n",
    "2. The discrepency can be explained by the fact if someone with age x it's more likely that they have friends of the same age so doing the usual average won't work"
   ],
   "metadata": {
    "collapsed": false
   }
  },
  {
   "cell_type": "markdown",
   "source": [
    "3. We need to find the unbaised estimator which is by definition :\n",
    "$$\\hat{F} = \\frac{\\sum_t{f(X_t)/ d_{X_t}}}{\\sum_t{1/ d_{X_t}}}$$"
   ],
   "metadata": {
    "collapsed": false
   }
  },
  {
   "cell_type": "code",
   "execution_count": 9,
   "metadata": {
    "collapsed": true
   },
   "outputs": [],
   "source": [
    "#3.\n",
    "def walker_upgraded(starting_node, number_nodes):\n",
    "    ages = []\n",
    "    degrees = []\n",
    "    n = number_nodes\n",
    "    node = starting_node\n",
    "    while n > 0:\n",
    "        data = getData(node)\n",
    "        neighboors = data[\"friends\"]\n",
    "        age = data[\"age\"]\n",
    "        deg = len(neighboors)\n",
    "        id = random.randrange(0, len(neighboors))\n",
    "        node = neighboors[id]\n",
    "        n = n - 1\n",
    "        ages.append(age)\n",
    "        degrees.append(deg)\n",
    "\n",
    "    ages = np.array(ages)\n",
    "    degrees = np.array(degrees)\n",
    "    return np.sum(ages / degrees) / np.sum(1 / degrees)"
   ]
  },
  {
   "cell_type": "markdown",
   "source": [
    "Now we will try multiple values of users until we find the optimal value of users to get the optimal age average"
   ],
   "metadata": {
    "collapsed": false
   }
  },
  {
   "cell_type": "code",
   "execution_count": 16,
   "outputs": [],
   "source": [
    "user_id = \"a5771bce93e200c36f7cd9dfd0e5deaa\"\n",
    "users = 10 ** 4\n",
    "avg = walker_upgraded(user_id, users)"
   ],
   "metadata": {
    "collapsed": false
   }
  },
  {
   "cell_type": "code",
   "execution_count": 18,
   "outputs": [
    {
     "name": "stdout",
     "output_type": "stream",
     "text": [
      "The average age of poeple on facebook using 10000 users is : 44.84443081085225 years\n"
     ]
    }
   ],
   "source": [
    "print(f\"The average age of poeple on facebook using {users} users is : {avg} years\")"
   ],
   "metadata": {
    "collapsed": false
   }
  },
  {
   "cell_type": "markdown",
   "source": [
    "After trying multiple values of users we find that our age average (44.8 years) is the closest to the real average of facebook users (45 years) is reached with 10000 users"
   ],
   "metadata": {
    "collapsed": false
   }
  }
 ],
 "metadata": {
  "kernelspec": {
   "display_name": "Python 3",
   "language": "python",
   "name": "python3"
  },
  "language_info": {
   "codemirror_mode": {
    "name": "ipython",
    "version": 3
   },
   "file_extension": ".py",
   "mimetype": "text/x-python",
   "name": "python",
   "nbconvert_exporter": "python",
   "pygments_lexer": "ipython3",
   "version": "3.5.0"
  }
 },
 "nbformat": 4,
 "nbformat_minor": 2
}
