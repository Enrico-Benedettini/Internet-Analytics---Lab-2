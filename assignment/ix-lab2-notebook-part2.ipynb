{
 "cells": [
  {
   "cell_type": "markdown",
   "metadata": {
    "pycharm": {
     "name": "#%% md\n"
    }
   },
   "source": [
    "# Networks: structure, evolution & processes\n",
    "**Internet Analytics - Lab 2**\n",
    "\n",
    "---\n",
    "\n",
    "**Group:** *Your group letter.*\n",
    "\n",
    "**Names:**\n",
    "\n",
    "* *Name 1*\n",
    "* *Name 2*\n",
    "* *Name 3*\n",
    "\n",
    "---\n",
    "\n",
    "#### Instructions\n",
    "\n",
    "*This is a template for part 2 of the lab. Clearly write your answers, comments and interpretations in Markodown cells. Don't forget that you can add $\\LaTeX$ equations in these cells. Feel free to add or remove any cell.*\n",
    "\n",
    "*Please properly comment your code. Code readability will be considered for grading. To avoid long cells of codes in the notebook, you can also embed long python functions and classes in a separate module. Don’t forget to hand in your module if that is the case. In multiple exercises, you are required to come up with your own method to solve various problems. Be creative and clearly motivate and explain your methods. Creativity and clarity will be considered for grading.*"
   ]
  },
  {
   "cell_type": "markdown",
   "metadata": {
    "pycharm": {
     "name": "#%% md\n"
    }
   },
   "source": [
    "---\n",
    "\n",
    "## 2.2 Network sampling\n",
    "\n",
    "#### Exercise 2.7: Random walk on the Facebook network"
   ]
  },
  {
   "cell_type": "code",
   "execution_count": 15,
   "outputs": [],
   "source": [
    "import math\n",
    "import requests\n",
    "import random\n",
    "import numpy as np"
   ],
   "metadata": {
    "collapsed": false,
    "pycharm": {
     "name": "#%%\n"
    }
   }
  },
  {
   "cell_type": "code",
   "execution_count": 4,
   "metadata": {
    "collapsed": true,
    "pycharm": {
     "name": "#%%\n"
    }
   },
   "outputs": [],
   "source": [
    "def getData(node):\n",
    "    URL_TEMPLATE = 'http://iccluster050.iccluster.epfl.ch:5050/v1.0/facebook?user={user_id}'\n",
    "    url = URL_TEMPLATE.format(user_id=node)\n",
    "    response = requests.get(url)\n",
    "    return response.json()\n",
    "\n",
    "def walker(starting_node, number_nodes):\n",
    "    i = 0\n",
    "    node = starting_node\n",
    "    ages = []\n",
    "    while i <number_nodes:\n",
    "        data = getData(node)\n",
    "        ages.append(data[\"age\"])\n",
    "        neighboors = data[\"friends\"]\n",
    "        id = random.randrange(0, len(neighboors))\n",
    "        node = neighboors[id]\n",
    "        i = i + 1\n",
    "    return np.sum(ages) / number_nodes"
   ]
  },
  {
   "cell_type": "code",
   "execution_count": null,
   "outputs": [],
   "source": [
    "user_id = \"a5771bce93e200c36f7cd9dfd0e5deaa\"\n",
    "users = 1000\n",
    "avg = walker(user_id,users)"
   ],
   "metadata": {
    "collapsed": false,
    "pycharm": {
     "name": "#%%\n"
    }
   }
  },
  {
   "cell_type": "code",
   "execution_count": 101,
   "outputs": [
    {
     "name": "stdout",
     "output_type": "stream",
     "text": [
      "The average age of facebook users using the user a5771bce93e200c36f7cd9dfd0e5deaa as a starting node and using 1000 is 25.223 years\n"
     ]
    }
   ],
   "source": [
    "print(f\"The average age of facebook users using the user {user_id} as a starting node and using {users} is {avg} years\")"
   ],
   "metadata": {
    "collapsed": false,
    "pycharm": {
     "name": "#%%\n"
    }
   }
  },
  {
   "cell_type": "markdown",
   "metadata": {
    "pycharm": {
     "name": "#%% md\n"
    }
   },
   "source": [
    "#### Exercise 2.8"
   ]
  },
  {
   "cell_type": "markdown",
   "source": [
    "1. We got 25.2 years as average years which  is not close to the true average which is 45 by 19.8 years\n",
    "2. The discrepency can be explained by the fact if we have user a and he has user b c d in his friends list and we take randomly user b then, user b has user a in his friend list and can be taken by the random generator and creates mistakes in the average that we are computing"
   ],
   "metadata": {
    "collapsed": false,
    "pycharm": {
     "name": "#%% md\n"
    }
   }
  },
  {
   "cell_type": "code",
   "execution_count": 33,
   "metadata": {
    "collapsed": true,
    "pycharm": {
     "name": "#%%\n"
    }
   },
   "outputs": [],
   "source": [
    "#3.\n",
    "def walker_upgraded(starting_node,number_nodes):\n",
    "    visited = []\n",
    "\n",
    "    def branch_walker(node,n):\n",
    "        if n == 0:\n",
    "            return 0\n",
    "        data = getData(node)\n",
    "        age = 0 if node in visited else data[\"age\"]\n",
    "        neighboors = data[\"friends\"]\n",
    "        if len(neighboors) == 0:\n",
    "            return age\n",
    "        if node in visited:\n",
    "            id = random.randrange(0, len(neighboors))\n",
    "            node = neighboors[id]\n",
    "            return branch_walker(node,n)\n",
    "\n",
    "        if len(neighboors) > 1:\n",
    "            id1 = random.randrange(0, len(neighboors))\n",
    "            n1 = neighboors[id1]\n",
    "            id2 = random.randrange(0, len(neighboors))\n",
    "\n",
    "            while id1 == id2 and len(neighboors):\n",
    "                id2 = random.randrange(0, len(neighboors))\n",
    "            n2 = neighboors[id2]\n",
    "            age =age + branch_walker(n1,math.floor(n/2)) + branch_walker(n2,math.ceil(n/2))\n",
    "        else:\n",
    "            id1 = random.randrange(0, len(neighboors))\n",
    "            n1 = neighboors[id1]\n",
    "            age = age + branch_walker(n1,n-1)\n",
    "        visited.append(node)\n",
    "        return age\n",
    "\n",
    "    ages = branch_walker(starting_node,number_nodes)\n",
    "    return ages / number_nodes"
   ]
  },
  {
   "cell_type": "code",
   "execution_count": 36,
   "outputs": [],
   "source": [
    "user_id = \"a5771bce93e200c36f7cd9dfd0e5deaa\"\n",
    "users = 1000\n",
    "avg = walker_upgraded(user_id,users)"
   ],
   "metadata": {
    "collapsed": false,
    "pycharm": {
     "name": "#%%\n"
    }
   }
  },
  {
   "cell_type": "code",
   "execution_count": 37,
   "outputs": [
    {
     "name": "stdout",
     "output_type": "stream",
     "text": [
      "265.43\n"
     ]
    }
   ],
   "source": [
    "print(avg)"
   ],
   "metadata": {
    "collapsed": false,
    "pycharm": {
     "name": "#%%\n"
    }
   }
  }
 ],
 "metadata": {
  "kernelspec": {
   "display_name": "Python 3",
   "language": "python",
   "name": "python3"
  },
  "language_info": {
   "codemirror_mode": {
    "name": "ipython",
    "version": 3
   },
   "file_extension": ".py",
   "mimetype": "text/x-python",
   "name": "python",
   "nbconvert_exporter": "python",
   "pygments_lexer": "ipython3",
   "version": "3.5.0"
  }
 },
 "nbformat": 4,
 "nbformat_minor": 2
}